{
 "cells": [
  {
   "cell_type": "markdown",
   "metadata": {},
   "source": [
    "## Verifying Stokes Law with AI & a novel Correction Function"
   ]
  },
  {
   "cell_type": "markdown",
   "metadata": {},
   "source": [
    "#### Importing external libraries"
   ]
  },
  {
   "cell_type": "code",
   "execution_count": null,
   "metadata": {},
   "outputs": [],
   "source": [
    "from collections import deque\n",
    "from imutils.video import VideoStream\n",
    "import matplotlib.pyplot as plt\n",
    "import numpy as np\n",
    "import argparse\n",
    "import cv2\n",
    "import imutils\n",
    "import time"
   ]
  },
  {
   "cell_type": "markdown",
   "metadata": {},
   "source": [
    "#### Importing functions we made"
   ]
  },
  {
   "cell_type": "code",
   "execution_count": null,
   "metadata": {},
   "outputs": [],
   "source": [
    "from functions.discrete_differential import d_dt\n",
    "from functions.pixel_shift_perspective_correction import position_to_irl"
   ]
  },
  {
   "cell_type": "markdown",
   "metadata": {},
   "source": [
    "#### Importing static variables"
   ]
  },
  {
   "cell_type": "code",
   "execution_count": null,
   "metadata": {},
   "outputs": [],
   "source": [
    "from utils.static import ballLower, ballUpper, buffer"
   ]
  },
  {
   "cell_type": "markdown",
   "metadata": {},
   "source": [
    "#### Declaring local variables and acquiring the video stream"
   ]
  },
  {
   "cell_type": "code",
   "execution_count": null,
   "metadata": {},
   "outputs": [],
   "source": [
    "frames_total = 0\n",
    "elements = []\n",
    "frame_shape = None\n",
    "pts = deque(maxlen=buffer)\n",
    "\n",
    "# Choosing the video file\n",
    "vs = cv2.VideoCapture(\"warehouse/media_store/glycerol_v1.mp4\")"
   ]
  },
  {
   "cell_type": "markdown",
   "metadata": {},
   "source": [
    "#### Main tracking function"
   ]
  },
  {
   "cell_type": "code",
   "execution_count": null,
   "metadata": {},
   "outputs": [],
   "source": [
    "while True:\n",
    "    frame = vs.read()\n",
    "    frame = frame[1]\n",
    "    if frame is None:\n",
    "        break\n",
    "    frames_total += 1\n",
    "\n",
    "    frame = imutils.resize(frame, width=400)\n",
    "    if frames_total == 1:\n",
    "        frame_shape = frame.shape\n",
    "    blurred = cv2.GaussianBlur(frame, (11, 11), 0)\n",
    "    hsv = cv2.cvtColor(blurred, cv2.COLOR_BGR2HSV)\n",
    "\n",
    "    mask = cv2.inRange(hsv, ballLower, ballUpper)\n",
    "    mask = cv2.erode(mask, None, iterations=2)\n",
    "    mask = cv2.dilate(mask, None, iterations=2)\n",
    "\n",
    "    cnts = cv2.findContours(mask.copy(), cv2.RETR_EXTERNAL,\n",
    "        cv2.CHAIN_APPROX_SIMPLE)\n",
    "    cnts = imutils.grab_contours(cnts)\n",
    "    center = None\n",
    "\n",
    "    if len(cnts) > 0:\n",
    "        c = max(cnts, key=cv2.contourArea)\n",
    "        ((x, y), radius) = cv2.minEnclosingCircle(c)\n",
    "        # print vals upto 2 decimal places\n",
    "        # print(f\"x: {x:.2f},\\t y: {y:.2f},\\t radius: {radius:.2f}\", end = \"\\t\")\n",
    "        M = cv2.moments(c)\n",
    "        center = (int(M[\"m10\"] / M[\"m00\"]), int(M[\"m01\"] / M[\"m00\"]))\n",
    "        # print(f\"center: {center},\\t timestamp: {vs.get(cv2.CAP_PROP_POS_MSEC)}\")\n",
    "\n",
    "        # only proceed if the radius meets a minimum size\n",
    "        if radius > 10:\n",
    "            elements.append(\n",
    "                [\n",
    "                    vs.get(cv2.CAP_PROP_POS_MSEC),\n",
    "                    (x, y),\n",
    "                    center\n",
    "                ]\n",
    "            )\n",
    "            # draw the circle and centroid on the frame,\n",
    "            # then update the list of tracked points\n",
    "            cv2.circle(frame, (int(x), int(y)), int(radius),\n",
    "                (0, 255, 0), 2)\n",
    "            cv2.circle(frame, center, 5, (0, 0, 255), -1)\n",
    "\n",
    "    # update the points queue\n",
    "    pts.appendleft(center)\n",
    "\n",
    "    # loop over the set of tracked points\n",
    "    for i in range(1, len(pts)):\n",
    "        # if either of the tracked points are None, ignore\n",
    "        # them\n",
    "        if pts[i - 1] is None or pts[i] is None:\n",
    "            continue\n",
    "\n",
    "        # otherwise, compute the thickness of the line and\n",
    "        # draw the connecting lines\n",
    "        thickness = int(np.sqrt(buffer / float(i + 1)) * 2.5)\n",
    "        cv2.line(frame, pts[i - 1], pts[i], (0, 0, 255), thickness)\n",
    "\n",
    "    # show the frame to our screen\n",
    "    cv2.imshow(\"Frame\", frame)\n",
    "    key = cv2.waitKey(1) & 0xFF\n",
    "\n",
    "    # if the 'q' key is pressed, stop the loop\n",
    "    if key == ord(\"q\"):\n",
    "        break\n",
    "    # time.sleep(0.05)\n",
    "\n",
    "vs.release()\n",
    "cv2.destroyAllWindows()\n",
    "\n",
    "print(f\"Length of elements: {len(elements)}\\nFrames_shape: {frame_shape}\")"
   ]
  },
  {
   "cell_type": "markdown",
   "metadata": {},
   "source": [
    "#### Calculating IRL velocities using pixel shift & accounting for perspective errors"
   ]
  },
  {
   "cell_type": "code",
   "execution_count": null,
   "metadata": {},
   "outputs": [],
   "source": [
    "y_axis_vals = [element[2][1] for element in elements]\n",
    "timestamps = [element[0] for element in elements]\n",
    "\n",
    "y_irl = [position_to_irl(y_axis_val, 0.45, 0, frame_shape[0], 0.3)[1] for y_axis_val in y_axis_vals]"
   ]
  },
  {
   "cell_type": "markdown",
   "metadata": {},
   "source": [
    "#### Applying the discrete differential on the Y-axis values"
   ]
  },
  {
   "cell_type": "code",
   "execution_count": null,
   "metadata": {},
   "outputs": [],
   "source": [
    "v_irl = d_dt(y_irl, timestamps)"
   ]
  },
  {
   "cell_type": "markdown",
   "metadata": {},
   "source": [
    "#### Plotting various graphs to visualize the results"
   ]
  },
  {
   "cell_type": "markdown",
   "metadata": {},
   "source": [
    "##### Y-Axis values"
   ]
  },
  {
   "cell_type": "code",
   "execution_count": null,
   "metadata": {},
   "outputs": [],
   "source": [
    "plt.plot([(float(i)-min(y_axis_vals))/(max(y_axis_vals)-min(y_axis_vals)) for i in y_axis_vals], color = \"r\")\n",
    "plt.plot([(float(i)-min(y_irl))/(max(y_irl)-min(y_irl)) for i in y_irl], color = \"g\")"
   ]
  },
  {
   "cell_type": "markdown",
   "metadata": {},
   "source": [
    "##### Velocity curve (discretely differentiated)"
   ]
  },
  {
   "cell_type": "code",
   "execution_count": null,
   "metadata": {},
   "outputs": [],
   "source": [
    "plt.plot(v_irl)"
   ]
  },
  {
   "cell_type": "markdown",
   "metadata": {},
   "source": [
    "#### Plotting the graph along with the theoritical terminal velocity"
   ]
  },
  {
   "cell_type": "code",
   "execution_count": null,
   "metadata": {},
   "outputs": [],
   "source": [
    "plt.plot(v_irl)\n",
    "plt.plot([25.541] * len(v_irl), color = \"green\", ls = \"-.\")"
   ]
  }
 ],
 "metadata": {
  "interpreter": {
   "hash": "8ed2725ebb182683c929bc36f7739f7a68f29a05c6786eaa06420c4995e1ae48"
  },
  "kernelspec": {
   "display_name": "Python 3.8.5 ('slf')",
   "language": "python",
   "name": "python3"
  },
  "language_info": {
   "codemirror_mode": {
    "name": "ipython",
    "version": 3
   },
   "file_extension": ".py",
   "mimetype": "text/x-python",
   "name": "python",
   "nbconvert_exporter": "python",
   "pygments_lexer": "ipython3",
   "version": "3.8.5"
  },
  "orig_nbformat": 4
 },
 "nbformat": 4,
 "nbformat_minor": 2
}
